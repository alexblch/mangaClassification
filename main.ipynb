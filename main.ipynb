{
 "cells": [
  {
   "cell_type": "code",
   "execution_count": 12,
   "metadata": {},
   "outputs": [],
   "source": [
    "import tensorflow as tf"
   ]
  },
  {
   "cell_type": "code",
   "execution_count": 13,
   "metadata": {},
   "outputs": [],
   "source": [
    "image_gen = tf.keras.preprocessing.image.ImageDataGenerator(rescale=1./255)"
   ]
  },
  {
   "cell_type": "code",
   "execution_count": 14,
   "metadata": {},
   "outputs": [
    {
     "name": "stdout",
     "output_type": "stream",
     "text": [
      "Found 22 images belonging to 2 classes.\n"
     ]
    }
   ],
   "source": [
    "train_dataset  = image_gen.flow_from_directory(\"Dataset/train\", class_mode='binary', target_size=(8,8))"
   ]
  },
  {
   "cell_type": "code",
   "execution_count": 15,
   "metadata": {},
   "outputs": [
    {
     "name": "stdout",
     "output_type": "stream",
     "text": [
      "Found 14 images belonging to 2 classes.\n"
     ]
    }
   ],
   "source": [
    "test_dataset = image_gen.flow_from_directory(\"Dataset/test\", class_mode='binary', target_size=(8,8))"
   ]
  },
  {
   "cell_type": "code",
   "execution_count": 16,
   "metadata": {},
   "outputs": [],
   "source": [
    "model = tf.keras.models.Sequential()"
   ]
  },
  {
   "cell_type": "code",
   "execution_count": 17,
   "metadata": {},
   "outputs": [],
   "source": [
    "model.add(tf.keras.layers.Flatten())\n",
    "model.add(tf.keras.layers.Dense(1, activation='sigmoid'))"
   ]
  },
  {
   "cell_type": "code",
   "execution_count": 18,
   "metadata": {},
   "outputs": [],
   "source": [
    "model.compile(loss=tf.keras.losses.mse, \n",
    "              metrics=[tf.keras.metrics.binary_accuracy], \n",
    "              optimizer=tf.keras.optimizers.SGD(0.2))"
   ]
  },
  {
   "cell_type": "code",
   "execution_count": 19,
   "metadata": {},
   "outputs": [
    {
     "name": "stdout",
     "output_type": "stream",
     "text": [
      "Epoch 1/100\n",
      "1/1 [==============================] - 1s 1s/step - loss: 0.2580 - binary_accuracy: 0.5909 - val_loss: 0.2382 - val_binary_accuracy: 0.4286\n",
      "Epoch 2/100\n",
      "1/1 [==============================] - 0s 313ms/step - loss: 0.2408 - binary_accuracy: 0.5909 - val_loss: 0.2460 - val_binary_accuracy: 0.5714\n",
      "Epoch 3/100\n",
      "1/1 [==============================] - 0s 293ms/step - loss: 0.2326 - binary_accuracy: 0.5000 - val_loss: 0.2415 - val_binary_accuracy: 0.5714\n",
      "Epoch 4/100\n",
      "1/1 [==============================] - 0s 303ms/step - loss: 0.2259 - binary_accuracy: 0.5000 - val_loss: 0.2435 - val_binary_accuracy: 0.5714\n",
      "Epoch 5/100\n",
      "1/1 [==============================] - 0s 269ms/step - loss: 0.2197 - binary_accuracy: 0.5909 - val_loss: 0.2422 - val_binary_accuracy: 0.5714\n",
      "Epoch 6/100\n",
      "1/1 [==============================] - 0s 270ms/step - loss: 0.2138 - binary_accuracy: 0.6818 - val_loss: 0.2429 - val_binary_accuracy: 0.5714\n",
      "Epoch 7/100\n",
      "1/1 [==============================] - 0s 278ms/step - loss: 0.2083 - binary_accuracy: 0.6818 - val_loss: 0.2424 - val_binary_accuracy: 0.5714\n",
      "Epoch 8/100\n",
      "1/1 [==============================] - 0s 332ms/step - loss: 0.2030 - binary_accuracy: 0.7273 - val_loss: 0.2427 - val_binary_accuracy: 0.5714\n",
      "Epoch 9/100\n",
      "1/1 [==============================] - 0s 385ms/step - loss: 0.1979 - binary_accuracy: 0.7727 - val_loss: 0.2425 - val_binary_accuracy: 0.5714\n",
      "Epoch 10/100\n",
      "1/1 [==============================] - 0s 343ms/step - loss: 0.1931 - binary_accuracy: 0.7727 - val_loss: 0.2427 - val_binary_accuracy: 0.5714\n",
      "Epoch 11/100\n",
      "1/1 [==============================] - 0s 405ms/step - loss: 0.1885 - binary_accuracy: 0.7727 - val_loss: 0.2427 - val_binary_accuracy: 0.5714\n",
      "Epoch 12/100\n",
      "1/1 [==============================] - 0s 332ms/step - loss: 0.1842 - binary_accuracy: 0.7727 - val_loss: 0.2428 - val_binary_accuracy: 0.5714\n",
      "Epoch 13/100\n",
      "1/1 [==============================] - 0s 362ms/step - loss: 0.1800 - binary_accuracy: 0.7727 - val_loss: 0.2428 - val_binary_accuracy: 0.5714\n",
      "Epoch 14/100\n",
      "1/1 [==============================] - 0s 321ms/step - loss: 0.1760 - binary_accuracy: 0.7727 - val_loss: 0.2429 - val_binary_accuracy: 0.5714\n",
      "Epoch 15/100\n",
      "1/1 [==============================] - 0s 457ms/step - loss: 0.1722 - binary_accuracy: 0.7727 - val_loss: 0.2430 - val_binary_accuracy: 0.5714\n",
      "Epoch 16/100\n",
      "1/1 [==============================] - 0s 266ms/step - loss: 0.1686 - binary_accuracy: 0.7727 - val_loss: 0.2432 - val_binary_accuracy: 0.5714\n",
      "Epoch 17/100\n",
      "1/1 [==============================] - 0s 277ms/step - loss: 0.1651 - binary_accuracy: 0.8182 - val_loss: 0.2433 - val_binary_accuracy: 0.5714\n",
      "Epoch 18/100\n",
      "1/1 [==============================] - 0s 266ms/step - loss: 0.1617 - binary_accuracy: 0.8636 - val_loss: 0.2434 - val_binary_accuracy: 0.5714\n",
      "Epoch 19/100\n",
      "1/1 [==============================] - 0s 270ms/step - loss: 0.1585 - binary_accuracy: 0.8636 - val_loss: 0.2435 - val_binary_accuracy: 0.5714\n",
      "Epoch 20/100\n",
      "1/1 [==============================] - 0s 263ms/step - loss: 0.1554 - binary_accuracy: 0.9091 - val_loss: 0.2437 - val_binary_accuracy: 0.5714\n",
      "Epoch 21/100\n",
      "1/1 [==============================] - 0s 274ms/step - loss: 0.1525 - binary_accuracy: 0.9091 - val_loss: 0.2439 - val_binary_accuracy: 0.5714\n",
      "Epoch 22/100\n",
      "1/1 [==============================] - 0s 313ms/step - loss: 0.1496 - binary_accuracy: 0.9091 - val_loss: 0.2440 - val_binary_accuracy: 0.5714\n",
      "Epoch 23/100\n",
      "1/1 [==============================] - 0s 257ms/step - loss: 0.1468 - binary_accuracy: 0.9545 - val_loss: 0.2442 - val_binary_accuracy: 0.5714\n",
      "Epoch 24/100\n",
      "1/1 [==============================] - 0s 273ms/step - loss: 0.1442 - binary_accuracy: 0.9545 - val_loss: 0.2444 - val_binary_accuracy: 0.5714\n",
      "Epoch 25/100\n",
      "1/1 [==============================] - 0s 263ms/step - loss: 0.1416 - binary_accuracy: 0.9545 - val_loss: 0.2446 - val_binary_accuracy: 0.5000\n",
      "Epoch 26/100\n",
      "1/1 [==============================] - 0s 284ms/step - loss: 0.1391 - binary_accuracy: 0.9545 - val_loss: 0.2448 - val_binary_accuracy: 0.5000\n",
      "Epoch 27/100\n",
      "1/1 [==============================] - 0s 272ms/step - loss: 0.1367 - binary_accuracy: 0.9545 - val_loss: 0.2450 - val_binary_accuracy: 0.5000\n",
      "Epoch 28/100\n",
      "1/1 [==============================] - 0s 266ms/step - loss: 0.1344 - binary_accuracy: 0.9545 - val_loss: 0.2452 - val_binary_accuracy: 0.5000\n",
      "Epoch 29/100\n",
      "1/1 [==============================] - 0s 297ms/step - loss: 0.1321 - binary_accuracy: 0.9545 - val_loss: 0.2455 - val_binary_accuracy: 0.5000\n",
      "Epoch 30/100\n",
      "1/1 [==============================] - 0s 297ms/step - loss: 0.1299 - binary_accuracy: 0.9545 - val_loss: 0.2457 - val_binary_accuracy: 0.5000\n",
      "Epoch 31/100\n",
      "1/1 [==============================] - 0s 298ms/step - loss: 0.1278 - binary_accuracy: 0.9545 - val_loss: 0.2459 - val_binary_accuracy: 0.5000\n",
      "Epoch 32/100\n",
      "1/1 [==============================] - 0s 303ms/step - loss: 0.1257 - binary_accuracy: 0.9545 - val_loss: 0.2462 - val_binary_accuracy: 0.5000\n",
      "Epoch 33/100\n",
      "1/1 [==============================] - 0s 305ms/step - loss: 0.1237 - binary_accuracy: 0.9545 - val_loss: 0.2464 - val_binary_accuracy: 0.5000\n",
      "Epoch 34/100\n",
      "1/1 [==============================] - 0s 358ms/step - loss: 0.1218 - binary_accuracy: 0.9545 - val_loss: 0.2467 - val_binary_accuracy: 0.5000\n",
      "Epoch 35/100\n",
      "1/1 [==============================] - 0s 341ms/step - loss: 0.1199 - binary_accuracy: 0.9545 - val_loss: 0.2469 - val_binary_accuracy: 0.5000\n",
      "Epoch 36/100\n",
      "1/1 [==============================] - 0s 349ms/step - loss: 0.1180 - binary_accuracy: 0.9545 - val_loss: 0.2472 - val_binary_accuracy: 0.5000\n",
      "Epoch 37/100\n",
      "1/1 [==============================] - 0s 296ms/step - loss: 0.1162 - binary_accuracy: 0.9545 - val_loss: 0.2474 - val_binary_accuracy: 0.5000\n",
      "Epoch 38/100\n",
      "1/1 [==============================] - 0s 311ms/step - loss: 0.1144 - binary_accuracy: 0.9545 - val_loss: 0.2477 - val_binary_accuracy: 0.5000\n",
      "Epoch 39/100\n",
      "1/1 [==============================] - 0s 265ms/step - loss: 0.1127 - binary_accuracy: 0.9545 - val_loss: 0.2480 - val_binary_accuracy: 0.5000\n",
      "Epoch 40/100\n",
      "1/1 [==============================] - 0s 258ms/step - loss: 0.1110 - binary_accuracy: 0.9545 - val_loss: 0.2483 - val_binary_accuracy: 0.5000\n",
      "Epoch 41/100\n",
      "1/1 [==============================] - 0s 266ms/step - loss: 0.1094 - binary_accuracy: 0.9545 - val_loss: 0.2485 - val_binary_accuracy: 0.5000\n",
      "Epoch 42/100\n",
      "1/1 [==============================] - 0s 269ms/step - loss: 0.1078 - binary_accuracy: 0.9545 - val_loss: 0.2488 - val_binary_accuracy: 0.5000\n",
      "Epoch 43/100\n",
      "1/1 [==============================] - 0s 266ms/step - loss: 0.1062 - binary_accuracy: 0.9545 - val_loss: 0.2491 - val_binary_accuracy: 0.5000\n",
      "Epoch 44/100\n",
      "1/1 [==============================] - 0s 289ms/step - loss: 0.1047 - binary_accuracy: 0.9545 - val_loss: 0.2494 - val_binary_accuracy: 0.5000\n",
      "Epoch 45/100\n",
      "1/1 [==============================] - 0s 258ms/step - loss: 0.1032 - binary_accuracy: 0.9545 - val_loss: 0.2497 - val_binary_accuracy: 0.5000\n",
      "Epoch 46/100\n",
      "1/1 [==============================] - 0s 261ms/step - loss: 0.1017 - binary_accuracy: 0.9545 - val_loss: 0.2500 - val_binary_accuracy: 0.5000\n",
      "Epoch 47/100\n",
      "1/1 [==============================] - 0s 254ms/step - loss: 0.1003 - binary_accuracy: 0.9545 - val_loss: 0.2503 - val_binary_accuracy: 0.5000\n",
      "Epoch 48/100\n",
      "1/1 [==============================] - 0s 261ms/step - loss: 0.0989 - binary_accuracy: 0.9545 - val_loss: 0.2506 - val_binary_accuracy: 0.5000\n",
      "Epoch 49/100\n",
      "1/1 [==============================] - 0s 268ms/step - loss: 0.0975 - binary_accuracy: 0.9545 - val_loss: 0.2509 - val_binary_accuracy: 0.5000\n",
      "Epoch 50/100\n",
      "1/1 [==============================] - 0s 257ms/step - loss: 0.0962 - binary_accuracy: 0.9545 - val_loss: 0.2512 - val_binary_accuracy: 0.5000\n",
      "Epoch 51/100\n",
      "1/1 [==============================] - 0s 261ms/step - loss: 0.0949 - binary_accuracy: 0.9545 - val_loss: 0.2515 - val_binary_accuracy: 0.5000\n",
      "Epoch 52/100\n",
      "1/1 [==============================] - 0s 278ms/step - loss: 0.0936 - binary_accuracy: 0.9545 - val_loss: 0.2518 - val_binary_accuracy: 0.5000\n",
      "Epoch 53/100\n",
      "1/1 [==============================] - 0s 261ms/step - loss: 0.0923 - binary_accuracy: 0.9545 - val_loss: 0.2521 - val_binary_accuracy: 0.5000\n",
      "Epoch 54/100\n",
      "1/1 [==============================] - 0s 256ms/step - loss: 0.0911 - binary_accuracy: 0.9545 - val_loss: 0.2523 - val_binary_accuracy: 0.5000\n",
      "Epoch 55/100\n",
      "1/1 [==============================] - 0s 280ms/step - loss: 0.0899 - binary_accuracy: 0.9545 - val_loss: 0.2526 - val_binary_accuracy: 0.5000\n",
      "Epoch 56/100\n",
      "1/1 [==============================] - 0s 306ms/step - loss: 0.0887 - binary_accuracy: 0.9545 - val_loss: 0.2529 - val_binary_accuracy: 0.5000\n",
      "Epoch 57/100\n",
      "1/1 [==============================] - 0s 276ms/step - loss: 0.0876 - binary_accuracy: 0.9545 - val_loss: 0.2532 - val_binary_accuracy: 0.5000\n",
      "Epoch 58/100\n",
      "1/1 [==============================] - 0s 263ms/step - loss: 0.0864 - binary_accuracy: 0.9545 - val_loss: 0.2535 - val_binary_accuracy: 0.5000\n",
      "Epoch 59/100\n",
      "1/1 [==============================] - 0s 266ms/step - loss: 0.0853 - binary_accuracy: 0.9545 - val_loss: 0.2538 - val_binary_accuracy: 0.5000\n",
      "Epoch 60/100\n",
      "1/1 [==============================] - 0s 275ms/step - loss: 0.0842 - binary_accuracy: 0.9545 - val_loss: 0.2541 - val_binary_accuracy: 0.5000\n",
      "Epoch 61/100\n",
      "1/1 [==============================] - 0s 274ms/step - loss: 0.0831 - binary_accuracy: 1.0000 - val_loss: 0.2544 - val_binary_accuracy: 0.5000\n",
      "Epoch 62/100\n",
      "1/1 [==============================] - 0s 284ms/step - loss: 0.0821 - binary_accuracy: 1.0000 - val_loss: 0.2547 - val_binary_accuracy: 0.5000\n",
      "Epoch 63/100\n",
      "1/1 [==============================] - 0s 304ms/step - loss: 0.0811 - binary_accuracy: 1.0000 - val_loss: 0.2550 - val_binary_accuracy: 0.5000\n",
      "Epoch 64/100\n",
      "1/1 [==============================] - 0s 279ms/step - loss: 0.0801 - binary_accuracy: 1.0000 - val_loss: 0.2553 - val_binary_accuracy: 0.5000\n",
      "Epoch 65/100\n",
      "1/1 [==============================] - 0s 319ms/step - loss: 0.0791 - binary_accuracy: 1.0000 - val_loss: 0.2556 - val_binary_accuracy: 0.5000\n",
      "Epoch 66/100\n",
      "1/1 [==============================] - 0s 324ms/step - loss: 0.0781 - binary_accuracy: 1.0000 - val_loss: 0.2559 - val_binary_accuracy: 0.5000\n",
      "Epoch 67/100\n",
      "1/1 [==============================] - 0s 358ms/step - loss: 0.0772 - binary_accuracy: 1.0000 - val_loss: 0.2562 - val_binary_accuracy: 0.5000\n",
      "Epoch 68/100\n",
      "1/1 [==============================] - 0s 301ms/step - loss: 0.0762 - binary_accuracy: 1.0000 - val_loss: 0.2565 - val_binary_accuracy: 0.5000\n",
      "Epoch 69/100\n",
      "1/1 [==============================] - 0s 290ms/step - loss: 0.0753 - binary_accuracy: 1.0000 - val_loss: 0.2568 - val_binary_accuracy: 0.5000\n",
      "Epoch 70/100\n",
      "1/1 [==============================] - 0s 295ms/step - loss: 0.0744 - binary_accuracy: 1.0000 - val_loss: 0.2571 - val_binary_accuracy: 0.5000\n",
      "Epoch 71/100\n",
      "1/1 [==============================] - 0s 304ms/step - loss: 0.0735 - binary_accuracy: 1.0000 - val_loss: 0.2574 - val_binary_accuracy: 0.5000\n",
      "Epoch 72/100\n",
      "1/1 [==============================] - 0s 287ms/step - loss: 0.0727 - binary_accuracy: 1.0000 - val_loss: 0.2576 - val_binary_accuracy: 0.5000\n",
      "Epoch 73/100\n",
      "1/1 [==============================] - 0s 287ms/step - loss: 0.0718 - binary_accuracy: 1.0000 - val_loss: 0.2579 - val_binary_accuracy: 0.5000\n",
      "Epoch 74/100\n",
      "1/1 [==============================] - 0s 290ms/step - loss: 0.0710 - binary_accuracy: 1.0000 - val_loss: 0.2582 - val_binary_accuracy: 0.5000\n",
      "Epoch 75/100\n",
      "1/1 [==============================] - 0s 296ms/step - loss: 0.0702 - binary_accuracy: 1.0000 - val_loss: 0.2585 - val_binary_accuracy: 0.5000\n",
      "Epoch 76/100\n",
      "1/1 [==============================] - 0s 288ms/step - loss: 0.0694 - binary_accuracy: 1.0000 - val_loss: 0.2588 - val_binary_accuracy: 0.5000\n",
      "Epoch 77/100\n",
      "1/1 [==============================] - 0s 283ms/step - loss: 0.0686 - binary_accuracy: 1.0000 - val_loss: 0.2590 - val_binary_accuracy: 0.5000\n",
      "Epoch 78/100\n",
      "1/1 [==============================] - 0s 338ms/step - loss: 0.0678 - binary_accuracy: 1.0000 - val_loss: 0.2593 - val_binary_accuracy: 0.5000\n",
      "Epoch 79/100\n",
      "1/1 [==============================] - 0s 304ms/step - loss: 0.0671 - binary_accuracy: 1.0000 - val_loss: 0.2596 - val_binary_accuracy: 0.5000\n",
      "Epoch 80/100\n",
      "1/1 [==============================] - 0s 358ms/step - loss: 0.0663 - binary_accuracy: 1.0000 - val_loss: 0.2599 - val_binary_accuracy: 0.5000\n",
      "Epoch 81/100\n",
      "1/1 [==============================] - 0s 307ms/step - loss: 0.0656 - binary_accuracy: 1.0000 - val_loss: 0.2601 - val_binary_accuracy: 0.5000\n",
      "Epoch 82/100\n",
      "1/1 [==============================] - 0s 293ms/step - loss: 0.0649 - binary_accuracy: 1.0000 - val_loss: 0.2604 - val_binary_accuracy: 0.5714\n",
      "Epoch 83/100\n",
      "1/1 [==============================] - 0s 298ms/step - loss: 0.0642 - binary_accuracy: 1.0000 - val_loss: 0.2607 - val_binary_accuracy: 0.5714\n",
      "Epoch 84/100\n",
      "1/1 [==============================] - 0s 292ms/step - loss: 0.0635 - binary_accuracy: 1.0000 - val_loss: 0.2609 - val_binary_accuracy: 0.5714\n",
      "Epoch 85/100\n",
      "1/1 [==============================] - 0s 287ms/step - loss: 0.0628 - binary_accuracy: 1.0000 - val_loss: 0.2612 - val_binary_accuracy: 0.5714\n",
      "Epoch 86/100\n",
      "1/1 [==============================] - 0s 295ms/step - loss: 0.0621 - binary_accuracy: 1.0000 - val_loss: 0.2615 - val_binary_accuracy: 0.5714\n",
      "Epoch 87/100\n",
      "1/1 [==============================] - 0s 291ms/step - loss: 0.0615 - binary_accuracy: 1.0000 - val_loss: 0.2617 - val_binary_accuracy: 0.5714\n",
      "Epoch 88/100\n",
      "1/1 [==============================] - 0s 287ms/step - loss: 0.0608 - binary_accuracy: 1.0000 - val_loss: 0.2620 - val_binary_accuracy: 0.5714\n",
      "Epoch 89/100\n",
      "1/1 [==============================] - 0s 288ms/step - loss: 0.0602 - binary_accuracy: 1.0000 - val_loss: 0.2622 - val_binary_accuracy: 0.5714\n",
      "Epoch 90/100\n",
      "1/1 [==============================] - 0s 295ms/step - loss: 0.0596 - binary_accuracy: 1.0000 - val_loss: 0.2625 - val_binary_accuracy: 0.5714\n",
      "Epoch 91/100\n",
      "1/1 [==============================] - 0s 299ms/step - loss: 0.0589 - binary_accuracy: 1.0000 - val_loss: 0.2628 - val_binary_accuracy: 0.5714\n",
      "Epoch 92/100\n",
      "1/1 [==============================] - 0s 293ms/step - loss: 0.0583 - binary_accuracy: 1.0000 - val_loss: 0.2630 - val_binary_accuracy: 0.5714\n",
      "Epoch 93/100\n",
      "1/1 [==============================] - 0s 286ms/step - loss: 0.0578 - binary_accuracy: 1.0000 - val_loss: 0.2633 - val_binary_accuracy: 0.5714\n",
      "Epoch 94/100\n",
      "1/1 [==============================] - 0s 296ms/step - loss: 0.0572 - binary_accuracy: 1.0000 - val_loss: 0.2635 - val_binary_accuracy: 0.5714\n",
      "Epoch 95/100\n",
      "1/1 [==============================] - 0s 305ms/step - loss: 0.0566 - binary_accuracy: 1.0000 - val_loss: 0.2638 - val_binary_accuracy: 0.5714\n",
      "Epoch 96/100\n",
      "1/1 [==============================] - 0s 290ms/step - loss: 0.0560 - binary_accuracy: 1.0000 - val_loss: 0.2640 - val_binary_accuracy: 0.5714\n",
      "Epoch 97/100\n",
      "1/1 [==============================] - 0s 299ms/step - loss: 0.0555 - binary_accuracy: 1.0000 - val_loss: 0.2643 - val_binary_accuracy: 0.5714\n",
      "Epoch 98/100\n",
      "1/1 [==============================] - 0s 304ms/step - loss: 0.0549 - binary_accuracy: 1.0000 - val_loss: 0.2645 - val_binary_accuracy: 0.5714\n",
      "Epoch 99/100\n",
      "1/1 [==============================] - 0s 301ms/step - loss: 0.0544 - binary_accuracy: 1.0000 - val_loss: 0.2647 - val_binary_accuracy: 0.5714\n",
      "Epoch 100/100\n",
      "1/1 [==============================] - 0s 289ms/step - loss: 0.0539 - binary_accuracy: 1.0000 - val_loss: 0.2650 - val_binary_accuracy: 0.5714\n"
     ]
    }
   ],
   "source": [
    "training_history = model.fit(train_dataset, validation_data=test_dataset, epochs=100)"
   ]
  },
  {
   "cell_type": "code",
   "execution_count": 20,
   "metadata": {},
   "outputs": [],
   "source": [
    "import matplotlib.pyplot as plt"
   ]
  },
  {
   "cell_type": "code",
   "execution_count": 21,
   "metadata": {},
   "outputs": [
    {
     "data": {
      "image/png": "[encoded data removed]",
      "text/plain": [
       "<Figure size 640x480 with 1 Axes>"
      ]
     },
     "metadata": {},
     "output_type": "display_data"
    }
   ],
   "source": [
    "plt.plot(training_history.history[\"loss\"],c=\"red\")\n",
    "plt.plot(training_history.history[\"val_loss\"],c=\"green\")\n",
    "plt.show()"
   ]
  },
  {
   "cell_type": "code",
   "execution_count": 22,
   "metadata": {},
   "outputs": [
    {
     "data": {
      "image/png": "[encoded data removed]",
      "text/plain": [
       "<Figure size 640x480 with 1 Axes>"
      ]
     },
     "metadata": {},
     "output_type": "display_data"
    }
   ],
   "source": [
    "plt.plot(training_history.history[\"binary_accuracy\"],c=\"red\")\n",
    "plt.plot(training_history.history[\"val_binary_accuracy\"],c=\"green\")\n",
    "plt.show()"
   ]
  }
 ],
 "metadata": {
  "kernelspec": {
   "display_name": "Python 3",
   "language": "python",
   "name": "python3"
  },
  "language_info": {
   "codemirror_mode": {
    "name": "ipython",
    "version": 3
   },
   "file_extension": ".py",
   "mimetype": "text/x-python",
   "name": "python",
   "nbconvert_exporter": "python",
   "pygments_lexer": "ipython3",
   "version": "3.8.10"
  },
  "orig_nbformat": 4
 },
 "nbformat": 4,
 "nbformat_minor": 2
}
